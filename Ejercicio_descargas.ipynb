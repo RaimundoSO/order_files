{
 "cells": [
  {
   "attachments": {},
   "cell_type": "markdown",
   "metadata": {},
   "source": [
    "## Ejercicio descargas"
   ]
  },
  {
   "attachments": {},
   "cell_type": "markdown",
   "metadata": {},
   "source": [
    "Python es un lenguaje de propósito general, por lo que podemos desarrollar otros programas,\n",
    "aparte de ciencia de datos, que nos permitan montar dashboards, crear APIs o automatizar\n",
    "procesos. En este caso vas a automatizar un proceso, en el que tendrás que desarrollar un\n",
    "script que ordene todos los archivos de una carpeta, dependiendo de la extensión de los\n",
    "mismos.\n",
    "\n",
    "\n",
    "El objetivo es ordenar la típica carpeta de cajón desastre donde se nos acumulan archivos de\n",
    "todos los formatos como: imágenes, words, presentaciones, excels, ejecutables, zips, etc... Y\n",
    "que no vamos a ir viendo archivo a archivo, ordenándolos.... La solución suele ser eliminarlo\n",
    "todo. Vamos a intentar no tener que llegar a eso, ordenando los ficheros automáticamente en\n",
    "carpetas y revisar las que nos interesen. La típica carpeta donde aplicaríamos este programa es\n",
    "la de “Descargas”, donde se suelen acumular muchos archivos temporales.\n",
    "\n",
    "\n",
    "Por tanto, **el programa tiene que guardar los archivos de la carpeta “Descargas” (o cualquier\n",
    "otra donde acumules mucho archivo temporal) en los siguientes directorios dentro de la\n",
    "propia carpeta “Descargas”**:\n",
    "- Imagenes\n",
    "- Documentos\n",
    "- Software\n",
    "- Otros\n",
    "\n",
    "Cada vez que ejecutes el script, automáticamente se ordenarán todos los archivos en sus\n",
    "correspondientes carpetas.\n"
   ]
  },
  {
   "cell_type": "code",
   "execution_count": 1,
   "metadata": {},
   "outputs": [],
   "source": [
    "#Estos son los tipos de archivos que vamos a manejar:\n",
    "doc_types = ('.doc', '.docx', '.txt', '.pdf', '.xls', '.ppt', '.xlsx', '.pptx')\n",
    "img_types = ('.jpg', '.jpeg', '.png', '.svg', '.gif', '.tif', '.tiff')\n",
    "software_types = ('.exe', '.py','.ipynb')"
   ]
  },
  {
   "attachments": {},
   "cell_type": "markdown",
   "metadata": {},
   "source": [
    "### 1. Crea un un programa con el flujo principal y encapsúlalo en funciones."
   ]
  },
  {
   "cell_type": "code",
   "execution_count": 2,
   "metadata": {},
   "outputs": [],
   "source": [
    "# Importo las bibliotecas\n",
    "import os\n",
    "import shutil\n",
    "\n"
   ]
  },
  {
   "cell_type": "code",
   "execution_count": 3,
   "metadata": {},
   "outputs": [
    {
     "name": "stdout",
     "output_type": "stream",
     "text": [
      "Es otra cosa\n",
      "Es otra cosa\n",
      "Es un documento\n",
      "Es otra cosa\n",
      "Es un programa\n",
      "Es otra cosa\n",
      "Es otra cosa\n"
     ]
    },
    {
     "data": {
      "text/plain": [
       "['carpeta_practica', 'Ejercicio_descargas.ipynb']"
      ]
     },
     "execution_count": 3,
     "metadata": {},
     "output_type": "execute_result"
    }
   ],
   "source": [
    "# En este código se reconocen los tipos de archivos en la carpeta de nombre carpeta_practica\n",
    "for archivo in os.listdir(os.getcwd()+\"\\\\carpeta_practica\"):\n",
    "    if archivo.endswith(doc_types):\n",
    "        print(\"Es un documento\")\n",
    "    elif archivo.endswith(img_types):\n",
    "        print(\"Es una imagen\")\n",
    "    elif archivo.endswith(software_types):\n",
    "        print(\"Es un programa\")\n",
    "    else:\n",
    "        print('Es otra cosa')\n",
    "\n",
    "# Lista de nombres de archivos:\n",
    "os.listdir()"
   ]
  },
  {
   "cell_type": "code",
   "execution_count": 4,
   "metadata": {},
   "outputs": [
    {
     "name": "stdout",
     "output_type": "stream",
     "text": [
      "Es un documento\n",
      "Es un programa\n",
      "Es una imagen\n",
      "Es una imagen\n",
      "Es un programa\n",
      "Es otra cosa\n",
      "Es un documento\n",
      "Es otra cosa\n",
      "Es otra cosa\n",
      "Es otra cosa\n"
     ]
    }
   ],
   "source": [
    "# Para mover ficheros se puede usar shutil\n",
    "# Hemos visto este ejemplo: shutil.move(\"fichero.txt\", \"data\")\n",
    "\n",
    "\n",
    "# Este programa comentado funciona.\n",
    "# En el siguiente bloque lo mejoro y lo encapsulo en una sola función\n",
    "'''\n",
    "import shutil\n",
    "\n",
    "#Vamos a probar si funciona, antes vamos a cambiar de directorio:\n",
    "os.chdir(\"./carpeta_practica/\")\n",
    "\n",
    "os.mkdir(\"Imagenes\")\n",
    "os.mkdir(\"Documentos\")\n",
    "os.mkdir(\"Programas\")\n",
    "\n",
    "\n",
    "for i in os.listdir(os.getcwd()):\n",
    "    if i.endswith(doc_types):\n",
    "        print(\"Es un documento\")\n",
    "        shutil.move(i, \"Documentos\")\n",
    "    elif i.endswith(img_types):\n",
    "        print(\"Es una imagen\")\n",
    "        shutil.move(i, \"Imagenes\")\n",
    "    elif i.endswith(software_types):\n",
    "        print(\"Es un programa\")\n",
    "        shutil.move(i, \"Programas\")\n",
    "    else:\n",
    "        print('Es otra cosa y paso, míralo tú.')\n",
    "\n",
    "'''"
   ]
  },
  {
   "cell_type": "code",
   "execution_count": 22,
   "metadata": {},
   "outputs": [],
   "source": [
    "# Importo las bibliotecas (ya lo he hecho antes, pero para pruebas me resultaba más cómodo)\n",
    "import os\n",
    "import shutil\n",
    "\n",
    "# Función que crea las carpetas si no existen\n",
    "def crear_carpetas():\n",
    "    '''\n",
    "    Crea las carpetas Imagenes, Documentos y Programas en el directorio actual si no existen.\n",
    "    '''\n",
    "    try:\n",
    "        os.mkdir(\"Imagenes\")\n",
    "    except:\n",
    "        print('Ya existe la carpeta Imagenes.')\n",
    "    try:\n",
    "        os.mkdir(\"Documentos\")\n",
    "    except:\n",
    "        print('Ya existe la carpeta Documentos.')\n",
    "    try:\n",
    "        os.mkdir(\"Programas\")\n",
    "    except:\n",
    "        print('Ya existe la carpeta Programas.')\n",
    "\n",
    "# Función que mueve los archivos\n",
    "\n",
    "def separador_archivos(doc_types:tuple, img_types:tuple, software_types:tuple, carpeta:str):\n",
    "    '''\n",
    "    Función que separa archivos en una carpeta en función de la extensión de los archivos\n",
    "    \n",
    "    doc_types (tuple): Tupla de extensiones de documentos\n",
    "    img_types (tuple): Tupla de extensiones de imágenes\n",
    "    software_types (tuple): Tupla de extensiones de programas\n",
    "    carpeta (str): Carpeta donde se encuentran los archivos\n",
    "\n",
    "    Crea tres carpetas y mueve los archivos a la carpeta Documentos, Imagenes o Programas según la extensión.\n",
    "\n",
    "    '''\n",
    "    # En este bloque el programa comprueba que el parámetro carpeta es correcto. Debe ser el nombre de la carpeta existente en el mismo lugar que el script.\n",
    "    # Si hay un error, se sale de la función devolviendo un False.\n",
    "    carpeta_actual = os.getcwd()\n",
    "    try:\n",
    "        os.chdir(carpeta_actual + carpeta)\n",
    "    except:\n",
    "        print('La carpeta no es correcta')\n",
    "        return False\n",
    "\n",
    "    # Si el nombre de la carpeta es correcto, se crean las carpetas\n",
    "    crear_carpetas()\n",
    "\n",
    "    # Se intentan mover los documentos a las carpetas correspondientes. Si hay algún error, como que el documento ya exista dentro de la carpeta de destino, el programa\n",
    "    # avisa y pasa al siguiente archivo.\n",
    "    for i in os.listdir(os.getcwd()):\n",
    "        if i.endswith(doc_types):\n",
    "            print(\"Es un documento\")\n",
    "            try:\n",
    "                shutil.move(i, \"Documentos\")\n",
    "            except:\n",
    "                print('No se ha podido mover el documento.')\n",
    "        elif i.endswith(img_types):\n",
    "            print(\"Es una imagen\")\n",
    "            try:\n",
    "                shutil.move(i, \"Imagenes\")\n",
    "            except:\n",
    "                print('No se ha podido mover el documento.')\n",
    "        elif i.endswith(software_types):\n",
    "            print(\"Es un programa\")\n",
    "            try:\n",
    "                shutil.move(i, \"Programas\")\n",
    "            except:\n",
    "                print('No se ha podido mover el documento.')\n",
    "        else:\n",
    "            print('Es otra cosa y paso, míralo tú.')\n",
    "\n",
    "    # Volvemos a la carpeta previa. Esto es sobre todo para hacer pruebas y no tener que reiniciar todo el rato\n",
    "    os.chdir(carpeta_actual)\n",
    "    \n",
    "    return True"
   ]
  },
  {
   "cell_type": "code",
   "execution_count": 23,
   "metadata": {},
   "outputs": [
    {
     "name": "stdout",
     "output_type": "stream",
     "text": [
      "Es un documento\n",
      "Es un programa\n",
      "Es una imagen\n",
      "Es una imagen\n",
      "Es un programa\n",
      "Es otra cosa y paso, míralo tú.\n",
      "Es un programa\n",
      "Es otra cosa y paso, míralo tú.\n",
      "Es un documento\n",
      "Es otra cosa y paso, míralo tú.\n",
      "Es un programa\n",
      "Es otra cosa y paso, míralo tú.\n",
      "Es otra cosa y paso, míralo tú.\n"
     ]
    },
    {
     "data": {
      "text/plain": [
       "True"
      ]
     },
     "execution_count": 23,
     "metadata": {},
     "output_type": "execute_result"
    }
   ],
   "source": [
    "# Prueba del programa:\n",
    "separador_archivos(doc_types, img_types, software_types, \"/carpeta_practica/\")"
   ]
  },
  {
   "attachments": {},
   "cell_type": "markdown",
   "metadata": {},
   "source": [
    "### 2. Crea una clase Fichero en clase.py y un main.py con el programa principal partiendo de esa clase."
   ]
  },
  {
   "cell_type": "markdown",
   "metadata": {},
   "source": [
    "\n",
    "No entiendo qué cómo crear aquí una clase, la verdad. Me espero a la corrección de mañana para verlo. Además, creo que lo lógico sería generar un script sencillo para irlo moviendo a la carpeta que queramos ordenar. Si hay que mover muchos archivos tendríamos que crear un ejecutable y creo que es añadir complicación.\n",
    "\n",
    "Vale, sí. Es una excusa porque no lo entiendo xD\n",
    "\n",
    "Voy a generar el script por si os resulta más fácil para probarlo. No obstante, simplemente copio el bloque previo."
   ]
  },
  {
   "cell_type": "markdown",
   "metadata": {},
   "source": [
    "Alumno: Raimundo Sieso Ortiz"
   ]
  }
 ],
 "metadata": {
  "kernelspec": {
   "display_name": "Python 3.7.4 64-bit",
   "language": "python",
   "name": "python3"
  },
  "language_info": {
   "codemirror_mode": {
    "name": "ipython",
    "version": 3
   },
   "file_extension": ".py",
   "mimetype": "text/x-python",
   "name": "python",
   "nbconvert_exporter": "python",
   "pygments_lexer": "ipython3",
   "version": "3.11.3"
  },
  "orig_nbformat": 4,
  "vscode": {
   "interpreter": {
    "hash": "90139cb9a825bf3d63f6f6704e828dbd1ff7edbd4d0c6e906a71235d6efc74af"
   }
  }
 },
 "nbformat": 4,
 "nbformat_minor": 2
}
